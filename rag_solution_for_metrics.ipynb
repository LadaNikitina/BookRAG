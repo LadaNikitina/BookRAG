{
  "metadata": {
    "kernelspec": {
      "language": "python",
      "display_name": "Python 3",
      "name": "python3"
    },
    "language_info": {
      "name": "python",
      "version": "3.10.12",
      "mimetype": "text/x-python",
      "codemirror_mode": {
        "name": "ipython",
        "version": 3
      },
      "pygments_lexer": "ipython3",
      "nbconvert_exporter": "python",
      "file_extension": ".py"
    },
    "kaggle": {
      "accelerator": "none",
      "dataSources": [
        {
          "sourceId": 9994759,
          "sourceType": "datasetVersion",
          "datasetId": 6151582
        },
        {
          "sourceId": 10193500,
          "sourceType": "datasetVersion",
          "datasetId": 6298358
        }
      ],
      "dockerImageVersionId": 30822,
      "isInternetEnabled": true,
      "language": "python",
      "sourceType": "notebook",
      "isGpuEnabled": false
    },
    "colab": {
      "provenance": []
    }
  },
  "nbformat_minor": 0,
  "nbformat": 4,
  "cells": [
    {
      "cell_type": "markdown",
      "source": [
        "# BookRAG"
      ],
      "metadata": {
        "id": "Z_Bp_hVBtJ7L"
      }
    },
    {
      "cell_type": "markdown",
      "source": [
        "## Установка библиотек"
      ],
      "metadata": {
        "id": "ddga8xxftJ7O"
      }
    },
    {
      "cell_type": "code",
      "source": [
        "!pip install streamlit streamlit-chat"
      ],
      "metadata": {
        "trusted": true,
        "execution": {
          "iopub.status.busy": "2024-12-22T19:45:48.863169Z",
          "iopub.execute_input": "2024-12-22T19:45:48.863684Z",
          "iopub.status.idle": "2024-12-22T19:45:48.867500Z",
          "shell.execute_reply.started": "2024-12-22T19:45:48.863643Z",
          "shell.execute_reply": "2024-12-22T19:45:48.866692Z"
        },
        "id": "H9ONb7_KtJ7P"
      },
      "outputs": [],
      "execution_count": null
    },
    {
      "cell_type": "code",
      "source": [
        "!pip install langchain"
      ],
      "metadata": {
        "trusted": true,
        "execution": {
          "iopub.status.busy": "2024-12-22T19:45:51.027575Z",
          "iopub.execute_input": "2024-12-22T19:45:51.028060Z",
          "iopub.status.idle": "2024-12-22T19:45:51.032482Z",
          "shell.execute_reply.started": "2024-12-22T19:45:51.028023Z",
          "shell.execute_reply": "2024-12-22T19:45:51.031346Z"
        },
        "id": "y1J4qOgztJ7R"
      },
      "outputs": [],
      "execution_count": null
    },
    {
      "cell_type": "code",
      "source": [
        "!pip install -U langchain-community"
      ],
      "metadata": {
        "trusted": true,
        "execution": {
          "iopub.status.busy": "2024-12-22T19:45:52.833408Z",
          "iopub.execute_input": "2024-12-22T19:45:52.833821Z",
          "iopub.status.idle": "2024-12-22T19:45:52.837966Z",
          "shell.execute_reply.started": "2024-12-22T19:45:52.833784Z",
          "shell.execute_reply": "2024-12-22T19:45:52.836727Z"
        },
        "id": "FlX4y2y9tJ7S"
      },
      "outputs": [],
      "execution_count": null
    },
    {
      "cell_type": "code",
      "source": [
        "!pip install sentence-transformers"
      ],
      "metadata": {
        "trusted": true,
        "execution": {
          "iopub.status.busy": "2024-12-22T19:45:54.795915Z",
          "iopub.execute_input": "2024-12-22T19:45:54.796240Z",
          "iopub.status.idle": "2024-12-22T19:45:54.800610Z",
          "shell.execute_reply.started": "2024-12-22T19:45:54.796215Z",
          "shell.execute_reply": "2024-12-22T19:45:54.799422Z"
        },
        "id": "IBdouf4WtJ7T"
      },
      "outputs": [],
      "execution_count": null
    },
    {
      "cell_type": "code",
      "source": [
        "!pip install faiss-gpu"
      ],
      "metadata": {
        "trusted": true,
        "execution": {
          "iopub.status.busy": "2024-12-22T19:45:59.061051Z",
          "iopub.execute_input": "2024-12-22T19:45:59.061398Z",
          "iopub.status.idle": "2024-12-22T19:45:59.065483Z",
          "shell.execute_reply.started": "2024-12-22T19:45:59.061369Z",
          "shell.execute_reply": "2024-12-22T19:45:59.064275Z"
        },
        "colab": {
          "base_uri": "https://localhost:8080/"
        },
        "id": "mgIOy4JOtJ7U",
        "outputId": "a63b09bc-2662-4af6-9435-e55201d7c02c"
      },
      "outputs": [
        {
          "output_type": "stream",
          "name": "stdout",
          "text": [
            "Requirement already satisfied: faiss-gpu in /usr/local/lib/python3.10/dist-packages (1.7.2)\n"
          ]
        }
      ],
      "execution_count": 5
    },
    {
      "cell_type": "code",
      "source": [
        "!pip install openai"
      ],
      "metadata": {
        "trusted": true,
        "execution": {
          "iopub.status.busy": "2024-12-22T19:46:01.144709Z",
          "iopub.execute_input": "2024-12-22T19:46:01.145061Z",
          "iopub.status.idle": "2024-12-22T19:46:01.148982Z",
          "shell.execute_reply.started": "2024-12-22T19:46:01.145032Z",
          "shell.execute_reply": "2024-12-22T19:46:01.148037Z"
        },
        "id": "vX0_0fLptJ7V"
      },
      "outputs": [],
      "execution_count": null
    },
    {
      "cell_type": "code",
      "source": [
        "!pip install langchain_openai"
      ],
      "metadata": {
        "trusted": true,
        "execution": {
          "iopub.status.busy": "2024-12-22T19:46:04.161968Z",
          "iopub.execute_input": "2024-12-22T19:46:04.162312Z",
          "iopub.status.idle": "2024-12-22T19:46:04.166694Z",
          "shell.execute_reply.started": "2024-12-22T19:46:04.162285Z",
          "shell.execute_reply": "2024-12-22T19:46:04.165505Z"
        },
        "id": "kVZ94m37tJ7V"
      },
      "outputs": [],
      "execution_count": null
    },
    {
      "cell_type": "code",
      "source": [
        "!pip install pypdf"
      ],
      "metadata": {
        "trusted": true,
        "execution": {
          "iopub.status.busy": "2024-12-22T19:46:06.158018Z",
          "iopub.execute_input": "2024-12-22T19:46:06.158355Z",
          "iopub.status.idle": "2024-12-22T19:46:06.162451Z",
          "shell.execute_reply.started": "2024-12-22T19:46:06.158330Z",
          "shell.execute_reply": "2024-12-22T19:46:06.161158Z"
        },
        "colab": {
          "base_uri": "https://localhost:8080/"
        },
        "id": "jHtVCK7ztJ7Y",
        "outputId": "8f71fcdc-5faf-4607-d598-be26fb285fec"
      },
      "outputs": [
        {
          "output_type": "stream",
          "name": "stdout",
          "text": [
            "Requirement already satisfied: pypdf in /usr/local/lib/python3.10/dist-packages (5.1.0)\n",
            "Requirement already satisfied: typing_extensions>=4.0 in /usr/local/lib/python3.10/dist-packages (from pypdf) (4.12.2)\n"
          ]
        }
      ],
      "execution_count": 8
    },
    {
      "cell_type": "code",
      "source": [
        "!pip install tiktoken"
      ],
      "metadata": {
        "trusted": true,
        "execution": {
          "iopub.status.busy": "2024-12-22T19:46:08.849760Z",
          "iopub.execute_input": "2024-12-22T19:46:08.850139Z",
          "iopub.status.idle": "2024-12-22T19:46:08.853680Z",
          "shell.execute_reply.started": "2024-12-22T19:46:08.850107Z",
          "shell.execute_reply": "2024-12-22T19:46:08.852742Z"
        },
        "id": "Z4Kh0GnqtJ7Y"
      },
      "outputs": [],
      "execution_count": null
    },
    {
      "cell_type": "code",
      "source": [
        "!pip install ragas"
      ],
      "metadata": {
        "id": "wHyhdsOmvOWa"
      },
      "execution_count": null,
      "outputs": []
    },
    {
      "cell_type": "markdown",
      "source": [
        "## Препроцессинг данных"
      ],
      "metadata": {
        "id": "dg6nsSqctJ7Z"
      }
    },
    {
      "cell_type": "code",
      "source": [
        "from langchain_community.document_loaders import PyPDFLoader\n",
        "import re\n",
        "from typing import List, Dict"
      ],
      "metadata": {
        "trusted": true,
        "execution": {
          "iopub.status.busy": "2024-12-22T19:40:20.150538Z",
          "iopub.execute_input": "2024-12-22T19:40:20.150892Z",
          "iopub.status.idle": "2024-12-22T19:40:20.155466Z",
          "shell.execute_reply.started": "2024-12-22T19:40:20.150866Z",
          "shell.execute_reply": "2024-12-22T19:40:20.154391Z"
        },
        "id": "deX1c8KAtJ7Z"
      },
      "outputs": [],
      "execution_count": 11
    },
    {
      "cell_type": "code",
      "source": [
        "# Путь к PDF файлу\n",
        "PDF_FILE_PATH = '/content/dostoevskiy_bratya_karamazovy.pdf'\n",
        "\n",
        "# Загрузка страниц из PDF\n",
        "loader = PyPDFLoader(PDF_FILE_PATH)\n",
        "pages = loader.load()[7:]\n",
        "\n",
        "# # Обработка текста для каждой страницы\n",
        "# for i in range(len(pages)):\n",
        "#     # Текущий текст страницы\n",
        "#     text = pages[i].page_content\n",
        "\n",
        "#     # Убираем переносы слов (например, \"припоминае-\\nмого\" -> \"припоминаемого\")\n",
        "#     text = re.sub(r'-\\n', '', text)\n",
        "\n",
        "#     # Заменяем разрывы строк на пробелы (например, \"\\n\" -> \" \")\n",
        "#     text = re.sub(r'\\n', ' ', text)\n",
        "\n",
        "#     # Удаляем лишние пробелы\n",
        "#     text = re.sub(r'\\s+', ' ', text).strip()\n",
        "\n",
        "#     # Удаляем подстроку с названием книги и автором\n",
        "#     text = re.sub(r'Ф\\.?\\s*М\\.?\\s*Достоевский\\.?\\s*«Братья Карамазовы»', '', text, flags=re.IGNORECASE)\n",
        "\n",
        "#     # Перезаписываем текст страницы\n",
        "#     pages[i].page_content = text\n",
        "\n",
        "# Проверка количества страниц после обработки\n",
        "total_pages = len(pages)\n",
        "print(f\"Всего страниц: {total_pages}\")"
      ],
      "metadata": {
        "trusted": true,
        "execution": {
          "iopub.status.busy": "2024-12-22T19:40:21.177239Z",
          "iopub.execute_input": "2024-12-22T19:40:21.177708Z",
          "iopub.status.idle": "2024-12-22T19:40:42.690865Z",
          "shell.execute_reply.started": "2024-12-22T19:40:21.177669Z",
          "shell.execute_reply": "2024-12-22T19:40:42.689974Z"
        },
        "colab": {
          "base_uri": "https://localhost:8080/"
        },
        "id": "jIZBkuwPtJ7a",
        "outputId": "33390741-ea2a-4e95-df7f-2c17ad1c2fb2"
      },
      "outputs": [
        {
          "output_type": "stream",
          "name": "stdout",
          "text": [
            "Всего страниц: 503\n"
          ]
        }
      ],
      "execution_count": 12
    },
    {
      "cell_type": "code",
      "source": [
        "pages[0]"
      ],
      "metadata": {
        "trusted": true,
        "execution": {
          "iopub.status.busy": "2024-12-22T19:40:42.699818Z",
          "iopub.execute_input": "2024-12-22T19:40:42.700159Z",
          "iopub.status.idle": "2024-12-22T19:40:42.706605Z",
          "shell.execute_reply.started": "2024-12-22T19:40:42.700132Z",
          "shell.execute_reply": "2024-12-22T19:40:42.705625Z"
        },
        "colab": {
          "base_uri": "https://localhost:8080/"
        },
        "id": "e-0tQA00tJ7b",
        "outputId": "bac01d50-77da-4f84-c23a-8e5056bbacc6"
      },
      "outputs": [
        {
          "output_type": "execute_result",
          "data": {
            "text/plain": [
              "Document(metadata={'source': '/content/dostoevskiy_bratya_karamazovy.pdf', 'page': 7}, page_content='Ф.  М.  Достоевский.  «Братья Карамазовы»\\n8\\n \\nЧасть первая\\n \\n \\nКнига первая\\nИстория одной семейки\\n \\n \\nI\\nФедор Павлович Карамазов\\n \\nАлексей Федорович Карамазов был третьим сыном помещика нашего уезда Федора\\nПавловича Карамазова, столь известного в свое время (да и теперь еще у нас припоминае-\\nмого) по трагической и темной кончине своей, приключившейся ровно тринадцать лет назад\\nи о которой сообщу в своем месте. Теперь же скажу об этом «помещике» (как его у нас назы-\\nвали, хотя он всю жизнь совсем почти не жил в своем поместье) лишь то, что это был стран-\\nный тип, довольно часто, однако, встречающийся, именно тип человека не только дрянного\\nи развратного, но вместе с тем и бестолкового, – но из таких, однако, бестолковых, кото-\\nрые умеют отлично обделывать свои имущественные делишки, и только, кажется, одни эти.\\nФедор Павлович, например, начал почти что ни с чем, помещик он был самый маленький,\\nбегал обедать по чужим столам, норовил в приживальщики, а между тем в момент кончины\\nего у него оказалось до ста тысяч рублей чистыми деньгами. И в то же время он все-таки всю\\nжизнь свою продолжал быть одним из бестолковейших сумасбродов по всему нашему уезду.\\nПовторю еще: тут не глупость; большинство этих сумасбродов довольно умно и хитро, – а\\nименно бестолковость, да еще какая-то особенная, национальная.\\nОн был женат два раза, и у него было три сына: старший, Дмитрий Федорович, от пер-\\nвой супруги, а остальные два, Иван и Алексей, от второй. Первая супруга Федора Павло-\\nвича была из довольно богатого и знатного рода дворян Миусовых, тоже помещиков нашего\\nуезда. Как именно случилось, что девушка с приданым, да еще красивая и, сверх того, из\\nбойких умниц, столь нередких у нас в теперешнее поколение, но появлявшихся уже и в про-\\nшлом, могла выйти замуж за такого ничтожного «мозгляка», как все его тогда называли, объ-\\nяснять слишком не стану. Ведь знал же я одну девицу, еще в запрошлом «романтическом»\\nпоколении, которая после нескольких лет загадочной любви к одному господину, за кото-\\nрого, впрочем, всегда могла выйти замуж самым спокойным образом, кончила, однако же,\\nтем, что сама навыдумала себе непреодолимые препятствия и в бурную ночь бросилась с\\nвысокого берега, похожего на утес, в довольно глубокую и быструю реку и погибла в ней\\nрешительно от собственных капризов, единственно из-за того, чтобы походить на шекспи-\\nровскую Офелию, и даже так, что будь этот утес, столь давно ею намеченный и излюблен-\\nный, не столь живописен, а будь на его месте лишь прозаический плоский берег, то само-\\nубийства, может быть, не произошло бы вовсе. Факт этот истинный, и надо думать, что в\\nнашей русской жизни, в два или три последние поколения, таких или однородных с ним фак-\\nтов происходило немало. Подобно тому и поступок Аделаиды Ивановны Миусовой был без\\nсомнения отголоском чужих веяний и тоже пленной мысли раздражением. Ей, может быть,\\nзахотелось заявить женскую самостоятельность, пойти против общественных условий, про-\\nтив деспотизма своего родства и семейства, а услужливая фантазия убедила ее, положим,\\nна один только миг, что Федор Павлович, несмотря на свой чин приживальщика, все-таки\\nодин из смелейших и насмешливейших людей той, переходной ко всему лучшему, эпохи,\\nтогда как он был только злой шут, и больше ничего. Пикантное состояло еще и в том, что')"
            ]
          },
          "metadata": {},
          "execution_count": 13
        }
      ],
      "execution_count": 13
    },
    {
      "cell_type": "code",
      "source": [
        "def split_text_into_chunks_with_metadata(pages, chunk_size=500):\n",
        "    current_book = None\n",
        "    current_chapter = None\n",
        "    current_chapter_title = None\n",
        "    is_next_title = True\n",
        "\n",
        "    chunks = []\n",
        "    for page in pages:\n",
        "        text = page.page_content\n",
        "        page_number = page.metadata['page'] + 1\n",
        "\n",
        "        # Поиск текущей книги, главы и названия\n",
        "        for line in text.splitlines():\n",
        "            book_match = re.match(r\"^\\s*Книга\\s+(\\w+)\", line)\n",
        "            chapter_match = re.match(r\"^\\s*([IVXLCDM]+)\\s*$\", line)\n",
        "\n",
        "            if current_book and is_next_title:\n",
        "                current_chapter_title = line.strip()\n",
        "                is_next_title = False\n",
        "\n",
        "            if book_match:\n",
        "                current_book = f\"Книга {book_match.group(1)}\"\n",
        "\n",
        "            if chapter_match:\n",
        "                current_chapter = f\"Глава {chapter_match.group(1)}\"\n",
        "                is_next_title = True\n",
        "\n",
        "        # Разбиваем текст на чанки\n",
        "        for i in range(0, len(text), chunk_size):\n",
        "            chunk = text[i:i + chunk_size]\n",
        "\n",
        "            # Убираем переносы слов (например, \"припоминае-\\nмого\" -> \"припоминаемого\")\n",
        "            chunk_text = re.sub(r'-\\n', '', chunk)\n",
        "\n",
        "            # Заменяем разрывы строк на пробелы (например, \"\\n\" -> \" \")\n",
        "            chunk_text = re.sub(r'\\n', ' ', chunk_text)\n",
        "\n",
        "            # Удаляем лишние пробелы\n",
        "            chunk_text = re.sub(r'\\s+', ' ', chunk_text).strip()\n",
        "\n",
        "            # Удаляем подстроку с названием книги и автором\n",
        "            chunk_text = re.sub(r'Ф. М. Достоевский. «Братья Карамазовы»', '', chunk_text, flags=re.IGNORECASE)\n",
        "\n",
        "            chunks.append({\n",
        "                'chunk': f\"Текст чанка {chunk_text}. | Источник: номер страницы {page_number}, {current_book}, {current_chapter}\",\n",
        "                'page': page_number,\n",
        "                'book': current_book,\n",
        "                'chapter': current_chapter,\n",
        "                # 'chapter_title': current_chapter_title\n",
        "            })\n",
        "    return chunks\n",
        "\n",
        "chunks = split_text_into_chunks_with_metadata(pages)\n",
        "print(f\"Всего чанков: {len(chunks)}\")"
      ],
      "metadata": {
        "trusted": true,
        "execution": {
          "iopub.status.busy": "2024-12-22T19:40:42.708485Z",
          "iopub.execute_input": "2024-12-22T19:40:42.708763Z",
          "iopub.status.idle": "2024-12-22T19:40:42.983802Z",
          "shell.execute_reply.started": "2024-12-22T19:40:42.708738Z",
          "shell.execute_reply": "2024-12-22T19:40:42.982941Z"
        },
        "colab": {
          "base_uri": "https://localhost:8080/"
        },
        "id": "0FvovkL8tJ7b",
        "outputId": "807f2fec-a31e-4997-ffc7-02cd4c21b31f"
      },
      "outputs": [
        {
          "output_type": "stream",
          "name": "stdout",
          "text": [
            "Всего чанков: 3925\n"
          ]
        }
      ],
      "execution_count": 14
    },
    {
      "cell_type": "markdown",
      "source": [
        "## Реализация RAG"
      ],
      "metadata": {
        "id": "sDoQ5ql8tJ7c"
      }
    },
    {
      "cell_type": "code",
      "source": [
        "import faiss\n",
        "from langchain.embeddings import OpenAIEmbeddings\n",
        "from langchain.vectorstores import FAISS\n",
        "from langchain.chains import RetrievalQA\n",
        "from langchain.prompts import PromptTemplate\n",
        "from langchain_openai import ChatOpenAI"
      ],
      "metadata": {
        "trusted": true,
        "execution": {
          "iopub.status.busy": "2024-12-22T19:40:42.984978Z",
          "iopub.execute_input": "2024-12-22T19:40:42.985298Z",
          "iopub.status.idle": "2024-12-22T19:40:42.989715Z",
          "shell.execute_reply.started": "2024-12-22T19:40:42.985272Z",
          "shell.execute_reply": "2024-12-22T19:40:42.988760Z"
        },
        "id": "nDfrVXoXtJ7c"
      },
      "outputs": [],
      "execution_count": 15
    },
    {
      "cell_type": "code",
      "source": [
        "api_key = input(\"Введите API ключ: \")"
      ],
      "metadata": {
        "trusted": true,
        "execution": {
          "iopub.status.busy": "2024-12-22T19:40:42.990606Z",
          "iopub.execute_input": "2024-12-22T19:40:42.990889Z",
          "iopub.status.idle": "2024-12-22T19:40:43.011303Z",
          "shell.execute_reply.started": "2024-12-22T19:40:42.990864Z",
          "shell.execute_reply": "2024-12-22T19:40:43.010302Z"
        },
        "id": "wEa_JU1etJ7c"
      },
      "outputs": [],
      "execution_count": null
    },
    {
      "cell_type": "code",
      "source": [
        "# Инициализация модели эмбеддингов\n",
        "embeddings = OpenAIEmbeddings(model=\"text-embedding-3-large\", openai_api_key=api_key)\n",
        "\n",
        "# Создание списка текстов для индексации\n",
        "texts = [chunk['chunk'] for chunk in chunks]\n",
        "metadatas = [chunk for chunk in chunks]\n",
        "\n",
        "# Создание векторного хранилища FAISS\n",
        "vector_store = FAISS.from_texts(texts, embeddings, metadatas=metadatas)\n",
        "\n",
        "# Сохранение индекса (опционально)\n",
        "vector_store.save_local(\"faiss_index\")"
      ],
      "metadata": {
        "trusted": true,
        "execution": {
          "iopub.status.busy": "2024-12-22T19:40:43.012472Z",
          "iopub.execute_input": "2024-12-22T19:40:43.012869Z",
          "iopub.status.idle": "2024-12-22T19:41:24.393643Z",
          "shell.execute_reply.started": "2024-12-22T19:40:43.012830Z",
          "shell.execute_reply": "2024-12-22T19:41:24.392537Z"
        },
        "colab": {
          "base_uri": "https://localhost:8080/"
        },
        "id": "_maf5Gk2tJ7c",
        "outputId": "a033321e-cbe9-4154-e6ba-b7bc428275cb"
      },
      "outputs": [
        {
          "output_type": "stream",
          "name": "stderr",
          "text": [
            "<ipython-input-17-70eeb91c0fe5>:2: LangChainDeprecationWarning: The class `OpenAIEmbeddings` was deprecated in LangChain 0.0.9 and will be removed in 1.0. An updated version of the class exists in the :class:`~langchain-openai package and should be used instead. To use it run `pip install -U :class:`~langchain-openai` and import as `from :class:`~langchain_openai import OpenAIEmbeddings``.\n",
            "  embeddings = OpenAIEmbeddings(model=\"text-embedding-3-large\", openai_api_key=api_key)\n"
          ]
        }
      ],
      "execution_count": 17
    },
    {
      "cell_type": "code",
      "source": [
        "llm = ChatOpenAI(\n",
        "    model=\"gpt-4o\",           # Specify the GPT-4o model\n",
        "    temperature=0.00,         # Low creativity for precise answers\n",
        "    openai_api_key=api_key,   # Your OpenAI API key\n",
        "    max_tokens=2048           # Adjust as needed\n",
        ")"
      ],
      "metadata": {
        "trusted": true,
        "execution": {
          "iopub.status.busy": "2024-12-22T19:41:24.394651Z",
          "iopub.execute_input": "2024-12-22T19:41:24.395001Z",
          "iopub.status.idle": "2024-12-22T19:41:24.536091Z",
          "shell.execute_reply.started": "2024-12-22T19:41:24.394964Z",
          "shell.execute_reply": "2024-12-22T19:41:24.534879Z"
        },
        "id": "G1Stt_tBtJ7c"
      },
      "outputs": [],
      "execution_count": 18
    },
    {
      "cell_type": "code",
      "source": [
        "from langchain.prompts import PromptTemplate\n",
        "\n",
        "template = \"\"\"Вы — ассистент, специализирующийся на предоставлении точных ответов на вопросы по книге \"Братья Карамазовы\" Фёдора Достоевского.\n",
        "\n",
        "Используйте предоставленные отрывки из книги для формирования ответов. Обязательно:\n",
        "\n",
        "1. Приводите полный и развернутый ответ на вопрос.\n",
        "2. Затем приводите точные цитаты из текста книги, подтверждающие ваш ответ, извлекая их из контекста.\n",
        "3. Указывайте источник информации.\n",
        "\n",
        "\n",
        "Контекст:\n",
        "{context}\n",
        "\n",
        "Вопрос: {question}\n",
        "\n",
        "Ответ:\n",
        "1. [Развернутый и полный ответ на вопрос]\n",
        "2. [Цитата из текста: \"...\"]\n",
        "3. [Источник: страница page, book, chapter]\n",
        "\"\"\"\n",
        "\n",
        "prompt = PromptTemplate(\n",
        "    template=template,\n",
        "    input_variables=[\"context\", \"question\"]\n",
        ")"
      ],
      "metadata": {
        "trusted": true,
        "execution": {
          "iopub.status.busy": "2024-12-22T19:41:24.537916Z",
          "iopub.execute_input": "2024-12-22T19:41:24.538202Z",
          "iopub.status.idle": "2024-12-22T19:41:24.543555Z",
          "shell.execute_reply.started": "2024-12-22T19:41:24.538163Z",
          "shell.execute_reply": "2024-12-22T19:41:24.542302Z"
        },
        "id": "AIXQtQ-DtJ7d"
      },
      "outputs": [],
      "execution_count": 19
    },
    {
      "cell_type": "code",
      "source": [
        "# Создание цепочки Вопрос-Ответ с использованием RetrievalQA\n",
        "qa_chain = RetrievalQA.from_chain_type(\n",
        "    llm=llm,\n",
        "    chain_type=\"stuff\",  # Использование простого объединения\n",
        "    retriever=vector_store.as_retriever(search_kwargs={\"k\": 5}),\n",
        "    return_source_documents=True,  # Добавляем возврат источников\n",
        "    chain_type_kwargs={\"prompt\": prompt}\n",
        ")"
      ],
      "metadata": {
        "trusted": true,
        "execution": {
          "iopub.status.busy": "2024-12-22T19:41:24.544853Z",
          "iopub.execute_input": "2024-12-22T19:41:24.545208Z",
          "iopub.status.idle": "2024-12-22T19:41:24.563622Z",
          "shell.execute_reply.started": "2024-12-22T19:41:24.545163Z",
          "shell.execute_reply": "2024-12-22T19:41:24.562475Z"
        },
        "id": "NrUZ46T8tJ7d"
      },
      "outputs": [],
      "execution_count": 20
    },
    {
      "cell_type": "code",
      "source": [
        "def chatbot():\n",
        "    print(\"Чат-бот по книге 'Братья Карамазовы'. Задайте свой вопрос или введите 'выход' для завершения.\")\n",
        "    while True:\n",
        "        try:\n",
        "            user_input = input(\"Вы: \")\n",
        "            if user_input.lower() in ['выход', 'exit', 'quit']:\n",
        "                print(\"Чат-бот: До свидания!\")\n",
        "                break\n",
        "            response = qa_chain.invoke(user_input)\n",
        "            # print(response[\"source_documents\"])\n",
        "            result = response['result']\n",
        "            print(result)\n",
        "        except Exception as e:\n",
        "            print(f\"Чат-бот: Извините, произошла ошибка: {e}\")\n",
        "\n",
        "if __name__ == \"__main__\":\n",
        "    chatbot()"
      ],
      "metadata": {
        "trusted": true,
        "execution": {
          "iopub.status.busy": "2024-12-22T19:41:24.565302Z",
          "iopub.execute_input": "2024-12-22T19:41:24.565701Z",
          "iopub.status.idle": "2024-12-22T19:45:44.166210Z",
          "shell.execute_reply.started": "2024-12-22T19:41:24.565663Z",
          "shell.execute_reply": "2024-12-22T19:45:44.164606Z"
        },
        "colab": {
          "base_uri": "https://localhost:8080/"
        },
        "id": "w0HZ36hwtJ7d",
        "outputId": "79463171-7c27-46e7-dff7-43a76370fd57"
      },
      "outputs": [
        {
          "output_type": "stream",
          "name": "stdout",
          "text": [
            "Чат-бот по книге 'Братья Карамазовы'. Задайте свой вопрос или введите 'выход' для завершения.\n",
            "Вы: Кто является ключевым персонажем в книге?\n",
            "Ответ:\n",
            "\n",
            "1. Ключевым персонажем в книге \"Братья Карамазовы\" является Алеша Карамазов. Он играет центральную роль в повествовании, и его духовные поиски и внутренние переживания составляют важную часть сюжета. Алеша представлен как человек с глубокими моральными и духовными убеждениями, и его характер противопоставляется другим членам семьи Карамазовых, которые часто погружены в страсти и конфликты. Его путь к духовному просветлению и стремление к добру оказывают значительное влияние на развитие событий в романе.\n",
            "\n",
            "2. Цитата из текста: \"если бы не повлияло оно сильнейшим и известным образом на душу и сердце главного, хотя и будущего героя рассказа моего, Алеши, составив в душе его как бы перелом и переворот, потрясший, но и укрепивший его разум уже окончательно, на всю жизнь и к известной цели.\" \n",
            "\n",
            "3. Источник: номер страницы 218, Книга седьмая, Глава I\n",
            "Вы: выход\n",
            "Чат-бот: До свидания!\n"
          ]
        }
      ],
      "execution_count": 21
    },
    {
      "cell_type": "markdown",
      "source": [
        "## Создание json файла с ответами на 60 вопросов для дальнейшей валидации метрик"
      ],
      "metadata": {
        "id": "kcBbHu774Awh"
      }
    },
    {
      "cell_type": "code",
      "source": [
        "# Список вопросов\n",
        "queries = [\n",
        "    # Описательные вопросы о персонажах\n",
        "    \"Какой характер у Фёдора Павловича Карамазова?\",\n",
        "    \"Чем выделяется Алёша среди других братьев?\",\n",
        "    \"Как Достоевский описывает Ивана Карамазова?\",\n",
        "    \"Какие черты характера определяют Дмитрия Карамазова?\",\n",
        "    \"Какова роль Смердякова в романе?\",\n",
        "    \"Какими словами автор описывает Грушеньку?\",\n",
        "    \"Как характеризуется Екатерина Ивановна?\",\n",
        "    \"Как проявляется духовность Алёши в общении с другими людьми?\",\n",
        "    \"Почему Фёдора Павловича считают отрицательным персонажем?\",\n",
        "    \"Как раскрывается внутренний конфликт Ивана Карамазова?\",\n",
        "    \"Какие черты Смердякова указывают на его тайные намерения?\",\n",
        "    \"Как Грушенька меняется в течение романа?\",\n",
        "    \"Как отношения между братьями Карамазовыми отражают их различия?\",\n",
        "    \"Почему Екатерина Ивановна так предана Дмитрию?\",\n",
        "    \"Как монастырь и старец Зосима влияют на Алёшу?\",\n",
        "    \"Что символизирует старец Зосима для других персонажей?\",\n",
        "    \"Какой образ создаёт автор для Ильи Снегирёва?\",\n",
        "    \"Чем выделяется фигура Лизы в романе?\",\n",
        "    \"Какую роль играет жена Снегирёва в развитии сюжета?\",\n",
        "    \"Почему Дмитрия считают самым страстным из братьев?\",\n",
        "\n",
        "    # Вопросы о ключевых событиях\n",
        "    \"Почему Дмитрия обвиняют в убийстве отца?\",\n",
        "    \"Какую роль играет эпизод с похищением денег?\",\n",
        "    \"Что происходит в сцене встречи Алёши с Грушенькой?\",\n",
        "    \"Почему Иван обсуждает с Алёшей легенду о Великом Инквизиторе?\",\n",
        "    \"Как Алёша справляется с утратой старца Зосимы?\",\n",
        "    \"Как Дмитрий оказывается в долгах?\",\n",
        "    \"Почему Фёдор Павлович вызывает ненависть у своих детей?\",\n",
        "    \"Как разворачивается сцена суда над Дмитрием?\",\n",
        "    \"Какое значение имеет смерть Фёдора Павловича?\",\n",
        "    \"Почему Смердяков решает убить Фёдора Павловича?\",\n",
        "    \"Какую роль играет монастырь в жизни героев?\",\n",
        "    \"Почему Иван сталкивается с моральным кризисом?\",\n",
        "    \"Как проходят последние дни старца Зосимы?\",\n",
        "    \"Что символизирует встреча Алёши с детьми?\",\n",
        "    \"Как Грушенька раскрывает свои чувства к Дмитрию?\",\n",
        "    \"Что происходит в сцене с золотыми червонцами?\",\n",
        "    \"Как Дмитрий готовится к побегу?\",\n",
        "    \"Как Иван узнаёт о планах Смердякова?\",\n",
        "    \"Что символизирует поведение детей в эпизоде с похоронами Илюши?\",\n",
        "    \"Какое влияние оказывает разговор Ивана с дьяволом?\",\n",
        "\n",
        "    # Вопросы на понимание мотивов персонажей\n",
        "    \"Почему Иван отрицает существование Бога?\",\n",
        "    \"Какую цель преследует Смердяков, убивая Фёдора Павловича?\",\n",
        "    \"Почему Дмитрий решается бежать, несмотря на риск?\",\n",
        "    \"Зачем Алёша посвящает себя духовному пути?\",\n",
        "    \"Почему Екатерина Ивановна продолжает защищать Дмитрия?\",\n",
        "    \"Какие чувства движут Грушенькой по отношению к Дмитрию?\",\n",
        "    \"Как Иван приходит к своей легенде о Великом Инквизиторе?\",\n",
        "    \"Почему Алёша поддерживает братьев, несмотря на их недостатки?\",\n",
        "    \"Как изменяются чувства Ивана после смерти отца?\",\n",
        "    \"Что заставляет Дмитрия принять вину за преступление, которого он не совершал?\",\n",
        "    \"Почему Смердяков верит, что Иван согласится с его поступком?\",\n",
        "    \"Как Грушенька принимает решение остаться с Дмитрием?\",\n",
        "    \"Зачем Екатерина Ивановна пытается отомстить Дмитрию?\",\n",
        "    \"Почему Алёша решает вернуться в мир из монастыря?\",\n",
        "    \"Как изменяется отношение Ивана к религии после событий романа?\",\n",
        "    \"Почему Илюша так важен для Алёши?\",\n",
        "    \"Какие мотивы скрываются за поведением Фёдора Павловича?\",\n",
        "    \"Как страхи и сомнения Ивана влияют на его поступки?\",\n",
        "    \"Почему Дмитрий так предан своей любви к Грушеньке?\",\n",
        "    \"Какое значение имеет сцена покаяния Дмитрия перед Алёшей?\"\n",
        "]\n",
        "\n",
        "\n",
        "examples = []\n",
        "\n",
        "for query in queries:\n",
        "    try:\n",
        "        # Получение ответа от чат-бота\n",
        "        response = qa_chain.invoke(query)\n",
        "        generated_answer = response['result']\n",
        "        source_documents = response.get(\"source_documents\", [])\n",
        "        context = \"\\n\".join([doc.page_content for doc in source_documents])\n",
        "\n",
        "        # Формирование примера для RAGAS\n",
        "        examples.append({\n",
        "            \"query\": query,\n",
        "            \"generated_answer\": generated_answer,\n",
        "            \"context\": context\n",
        "        })\n",
        "    except Exception as e:\n",
        "        print(f\"Ошибка при обработке запроса: {query}. {e}\")\n",
        "\n",
        "# Сохранение данных в файл\n",
        "import json\n",
        "\n",
        "with open(\"ragas_examples.json\", \"w\", encoding=\"utf-8\") as f:\n",
        "    json.dump(examples, f, ensure_ascii=False, indent=4)\n",
        "\n",
        "print(\"Данные успешно сохранены!\")"
      ],
      "metadata": {
        "colab": {
          "base_uri": "https://localhost:8080/"
        },
        "id": "ZT1Wy-mQyglZ",
        "outputId": "10882af3-2754-45e6-f90f-80da7d9502dc"
      },
      "execution_count": 29,
      "outputs": [
        {
          "output_type": "stream",
          "name": "stdout",
          "text": [
            "Данные успешно сохранены!\n"
          ]
        }
      ]
    }
  ]
}