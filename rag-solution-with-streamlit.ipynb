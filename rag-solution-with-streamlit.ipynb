{
 "cells": [
  {
   "cell_type": "markdown",
   "metadata": {},
   "source": [
    "# BookRAG"
   ]
  },
  {
   "cell_type": "markdown",
   "metadata": {},
   "source": [
    "## Установка библиотек"
   ]
  },
  {
   "cell_type": "code",
   "execution_count": 117,
   "metadata": {
    "execution": {
     "iopub.execute_input": "2024-12-22T19:45:48.863684Z",
     "iopub.status.busy": "2024-12-22T19:45:48.863169Z",
     "iopub.status.idle": "2024-12-22T19:45:48.867500Z",
     "shell.execute_reply": "2024-12-22T19:45:48.866692Z",
     "shell.execute_reply.started": "2024-12-22T19:45:48.863643Z"
    }
   },
   "outputs": [],
   "source": [
    "# !pip install streamlit streamlit-chat"
   ]
  },
  {
   "cell_type": "code",
   "execution_count": 118,
   "metadata": {
    "execution": {
     "iopub.execute_input": "2024-12-22T19:45:51.028060Z",
     "iopub.status.busy": "2024-12-22T19:45:51.027575Z",
     "iopub.status.idle": "2024-12-22T19:45:51.032482Z",
     "shell.execute_reply": "2024-12-22T19:45:51.031346Z",
     "shell.execute_reply.started": "2024-12-22T19:45:51.028023Z"
    }
   },
   "outputs": [],
   "source": [
    "# !pip install langchain"
   ]
  },
  {
   "cell_type": "code",
   "execution_count": 119,
   "metadata": {
    "execution": {
     "iopub.execute_input": "2024-12-22T19:45:52.833821Z",
     "iopub.status.busy": "2024-12-22T19:45:52.833408Z",
     "iopub.status.idle": "2024-12-22T19:45:52.837966Z",
     "shell.execute_reply": "2024-12-22T19:45:52.836727Z",
     "shell.execute_reply.started": "2024-12-22T19:45:52.833784Z"
    }
   },
   "outputs": [],
   "source": [
    "# !pip install -U langchain-community"
   ]
  },
  {
   "cell_type": "code",
   "execution_count": 120,
   "metadata": {
    "execution": {
     "iopub.execute_input": "2024-12-22T19:45:54.796240Z",
     "iopub.status.busy": "2024-12-22T19:45:54.795915Z",
     "iopub.status.idle": "2024-12-22T19:45:54.800610Z",
     "shell.execute_reply": "2024-12-22T19:45:54.799422Z",
     "shell.execute_reply.started": "2024-12-22T19:45:54.796215Z"
    }
   },
   "outputs": [],
   "source": [
    "# !pip install sentence-transformers"
   ]
  },
  {
   "cell_type": "code",
   "execution_count": 121,
   "metadata": {
    "execution": {
     "iopub.execute_input": "2024-12-22T19:45:59.061398Z",
     "iopub.status.busy": "2024-12-22T19:45:59.061051Z",
     "iopub.status.idle": "2024-12-22T19:45:59.065483Z",
     "shell.execute_reply": "2024-12-22T19:45:59.064275Z",
     "shell.execute_reply.started": "2024-12-22T19:45:59.061369Z"
    }
   },
   "outputs": [],
   "source": [
    "# !pip install faiss-gpu"
   ]
  },
  {
   "cell_type": "code",
   "execution_count": 122,
   "metadata": {
    "execution": {
     "iopub.execute_input": "2024-12-22T19:46:01.145061Z",
     "iopub.status.busy": "2024-12-22T19:46:01.144709Z",
     "iopub.status.idle": "2024-12-22T19:46:01.148982Z",
     "shell.execute_reply": "2024-12-22T19:46:01.148037Z",
     "shell.execute_reply.started": "2024-12-22T19:46:01.145032Z"
    }
   },
   "outputs": [],
   "source": [
    "# !pip install openai"
   ]
  },
  {
   "cell_type": "code",
   "execution_count": 123,
   "metadata": {
    "execution": {
     "iopub.execute_input": "2024-12-22T19:46:04.162312Z",
     "iopub.status.busy": "2024-12-22T19:46:04.161968Z",
     "iopub.status.idle": "2024-12-22T19:46:04.166694Z",
     "shell.execute_reply": "2024-12-22T19:46:04.165505Z",
     "shell.execute_reply.started": "2024-12-22T19:46:04.162285Z"
    }
   },
   "outputs": [],
   "source": [
    "# !pip install langchain_openai"
   ]
  },
  {
   "cell_type": "code",
   "execution_count": 124,
   "metadata": {
    "execution": {
     "iopub.execute_input": "2024-12-22T19:46:06.158355Z",
     "iopub.status.busy": "2024-12-22T19:46:06.158018Z",
     "iopub.status.idle": "2024-12-22T19:46:06.162451Z",
     "shell.execute_reply": "2024-12-22T19:46:06.161158Z",
     "shell.execute_reply.started": "2024-12-22T19:46:06.158330Z"
    }
   },
   "outputs": [],
   "source": [
    "# !pip install pypdf"
   ]
  },
  {
   "cell_type": "code",
   "execution_count": 125,
   "metadata": {
    "execution": {
     "iopub.execute_input": "2024-12-22T19:46:08.850139Z",
     "iopub.status.busy": "2024-12-22T19:46:08.849760Z",
     "iopub.status.idle": "2024-12-22T19:46:08.853680Z",
     "shell.execute_reply": "2024-12-22T19:46:08.852742Z",
     "shell.execute_reply.started": "2024-12-22T19:46:08.850107Z"
    }
   },
   "outputs": [],
   "source": [
    "# !pip install tiktoken"
   ]
  },
  {
   "cell_type": "markdown",
   "metadata": {},
   "source": [
    "## Препроцессинг данных"
   ]
  },
  {
   "cell_type": "code",
   "execution_count": 106,
   "metadata": {
    "execution": {
     "iopub.execute_input": "2024-12-22T19:40:20.150892Z",
     "iopub.status.busy": "2024-12-22T19:40:20.150538Z",
     "iopub.status.idle": "2024-12-22T19:40:20.155466Z",
     "shell.execute_reply": "2024-12-22T19:40:20.154391Z",
     "shell.execute_reply.started": "2024-12-22T19:40:20.150866Z"
    }
   },
   "outputs": [],
   "source": [
    "from langchain_community.document_loaders import PyPDFLoader\n",
    "import re\n",
    "from typing import List, Dict"
   ]
  },
  {
   "cell_type": "code",
   "execution_count": 107,
   "metadata": {
    "execution": {
     "iopub.execute_input": "2024-12-22T19:40:21.177708Z",
     "iopub.status.busy": "2024-12-22T19:40:21.177239Z",
     "iopub.status.idle": "2024-12-22T19:40:42.690865Z",
     "shell.execute_reply": "2024-12-22T19:40:42.689974Z",
     "shell.execute_reply.started": "2024-12-22T19:40:21.177669Z"
    }
   },
   "outputs": [
    {
     "name": "stdout",
     "output_type": "stream",
     "text": [
      "Всего страниц: 503\n"
     ]
    }
   ],
   "source": [
    "# Путь к PDF файлу\n",
    "PDF_FILE_PATH = '/kaggle/input/karamazovy/dostoevskiy_bratya_karamazovy.pdf'\n",
    "\n",
    "# Загрузка страниц из PDF\n",
    "loader = PyPDFLoader(PDF_FILE_PATH)\n",
    "pages = loader.load()[7:]\n",
    "\n",
    "# # Обработка текста для каждой страницы\n",
    "# for i in range(len(pages)):\n",
    "#     # Текущий текст страницы\n",
    "#     text = pages[i].page_content\n",
    "    \n",
    "#     # Убираем переносы слов (например, \"припоминае-\\nмого\" -> \"припоминаемого\")\n",
    "#     text = re.sub(r'-\\n', '', text)\n",
    "    \n",
    "#     # Заменяем разрывы строк на пробелы (например, \"\\n\" -> \" \")\n",
    "#     text = re.sub(r'\\n', ' ', text)\n",
    "    \n",
    "#     # Удаляем лишние пробелы\n",
    "#     text = re.sub(r'\\s+', ' ', text).strip()\n",
    "    \n",
    "#     # Удаляем подстроку с названием книги и автором\n",
    "#     text = re.sub(r'Ф\\.?\\s*М\\.?\\s*Достоевский\\.?\\s*«Братья Карамазовы»', '', text, flags=re.IGNORECASE)\n",
    "    \n",
    "#     # Перезаписываем текст страницы\n",
    "#     pages[i].page_content = text\n",
    "\n",
    "# Проверка количества страниц после обработки\n",
    "total_pages = len(pages)\n",
    "print(f\"Всего страниц: {total_pages}\")"
   ]
  },
  {
   "cell_type": "code",
   "execution_count": 108,
   "metadata": {
    "execution": {
     "iopub.execute_input": "2024-12-22T19:40:42.700159Z",
     "iopub.status.busy": "2024-12-22T19:40:42.699818Z",
     "iopub.status.idle": "2024-12-22T19:40:42.706605Z",
     "shell.execute_reply": "2024-12-22T19:40:42.705625Z",
     "shell.execute_reply.started": "2024-12-22T19:40:42.700132Z"
    }
   },
   "outputs": [
    {
     "data": {
      "text/plain": [
       "Document(metadata={'source': '/kaggle/input/karamazovy/dostoevskiy_bratya_karamazovy.pdf', 'page': 7}, page_content='Ф.  М.  Достоевский.  «Братья Карамазовы»\\n8\\n \\nЧасть первая\\n \\n \\nКнига первая\\nИстория одной семейки\\n \\n \\nI\\nФедор Павлович Карамазов\\n \\nАлексей Федорович Карамазов был третьим сыном помещика нашего уезда Федора\\nПавловича Карамазова, столь известного в свое время (да и теперь еще у нас припоминае-\\nмого) по трагической и темной кончине своей, приключившейся ровно тринадцать лет назад\\nи о которой сообщу в своем месте. Теперь же скажу об этом «помещике» (как его у нас назы-\\nвали, хотя он всю жизнь совсем почти не жил в своем поместье) лишь то, что это был стран-\\nный тип, довольно часто, однако, встречающийся, именно тип человека не только дрянного\\nи развратного, но вместе с тем и бестолкового, – но из таких, однако, бестолковых, кото-\\nрые умеют отлично обделывать свои имущественные делишки, и только, кажется, одни эти.\\nФедор Павлович, например, начал почти что ни с чем, помещик он был самый маленький,\\nбегал обедать по чужим столам, норовил в приживальщики, а между тем в момент кончины\\nего у него оказалось до ста тысяч рублей чистыми деньгами. И в то же время он все-таки всю\\nжизнь свою продолжал быть одним из бестолковейших сумасбродов по всему нашему уезду.\\nПовторю еще: тут не глупость; большинство этих сумасбродов довольно умно и хитро, – а\\nименно бестолковость, да еще какая-то особенная, национальная.\\nОн был женат два раза, и у него было три сына: старший, Дмитрий Федорович, от пер-\\nвой супруги, а остальные два, Иван и Алексей, от второй. Первая супруга Федора Павло-\\nвича была из довольно богатого и знатного рода дворян Миусовых, тоже помещиков нашего\\nуезда. Как именно случилось, что девушка с приданым, да еще красивая и, сверх того, из\\nбойких умниц, столь нередких у нас в теперешнее поколение, но появлявшихся уже и в про-\\nшлом, могла выйти замуж за такого ничтожного «мозгляка», как все его тогда называли, объ-\\nяснять слишком не стану. Ведь знал же я одну девицу, еще в запрошлом «романтическом»\\nпоколении, которая после нескольких лет загадочной любви к одному господину, за кото-\\nрого, впрочем, всегда могла выйти замуж самым спокойным образом, кончила, однако же,\\nтем, что сама навыдумала себе непреодолимые препятствия и в бурную ночь бросилась с\\nвысокого берега, похожего на утес, в довольно глубокую и быструю реку и погибла в ней\\nрешительно от собственных капризов, единственно из-за того, чтобы походить на шекспи-\\nровскую Офелию, и даже так, что будь этот утес, столь давно ею намеченный и излюблен-\\nный, не столь живописен, а будь на его месте лишь прозаический плоский берег, то само-\\nубийства, может быть, не произошло бы вовсе. Факт этот истинный, и надо думать, что в\\nнашей русской жизни, в два или три последние поколения, таких или однородных с ним фак-\\nтов происходило немало. Подобно тому и поступок Аделаиды Ивановны Миусовой был без\\nсомнения отголоском чужих веяний и тоже пленной мысли раздражением. Ей, может быть,\\nзахотелось заявить женскую самостоятельность, пойти против общественных условий, про-\\nтив деспотизма своего родства и семейства, а услужливая фантазия убедила ее, положим,\\nна один только миг, что Федор Павлович, несмотря на свой чин приживальщика, все-таки\\nодин из смелейших и насмешливейших людей той, переходной ко всему лучшему, эпохи,\\nтогда как он был только злой шут, и больше ничего. Пикантное состояло еще и в том, что')"
      ]
     },
     "execution_count": 108,
     "metadata": {},
     "output_type": "execute_result"
    }
   ],
   "source": [
    "pages[0]"
   ]
  },
  {
   "cell_type": "code",
   "execution_count": 109,
   "metadata": {
    "execution": {
     "iopub.execute_input": "2024-12-22T19:40:42.708763Z",
     "iopub.status.busy": "2024-12-22T19:40:42.708485Z",
     "iopub.status.idle": "2024-12-22T19:40:42.983802Z",
     "shell.execute_reply": "2024-12-22T19:40:42.982941Z",
     "shell.execute_reply.started": "2024-12-22T19:40:42.708738Z"
    }
   },
   "outputs": [
    {
     "name": "stdout",
     "output_type": "stream",
     "text": [
      "Всего чанков: 3925\n"
     ]
    }
   ],
   "source": [
    "def split_text_into_chunks_with_metadata(pages, chunk_size=500):\n",
    "    current_book = None\n",
    "    current_chapter = None\n",
    "    current_chapter_title = None\n",
    "    is_next_title = True\n",
    "\n",
    "    chunks = []\n",
    "    for page in pages:\n",
    "        text = page.page_content\n",
    "        page_number = page.metadata['page'] + 1\n",
    "\n",
    "        # Поиск текущей книги, главы и названия\n",
    "        for line in text.splitlines():\n",
    "            book_match = re.match(r\"^\\s*Книга\\s+(\\w+)\", line)\n",
    "            chapter_match = re.match(r\"^\\s*([IVXLCDM]+)\\s*$\", line)\n",
    "            \n",
    "            if current_book and is_next_title:\n",
    "                current_chapter_title = line.strip()\n",
    "                is_next_title = False\n",
    "                \n",
    "            if book_match:\n",
    "                current_book = f\"Книга {book_match.group(1)}\"\n",
    "                \n",
    "            if chapter_match:\n",
    "                current_chapter = f\"Глава {chapter_match.group(1)}\"\n",
    "                is_next_title = True \n",
    "\n",
    "        # Разбиваем текст на чанки\n",
    "        for i in range(0, len(text), chunk_size):\n",
    "            chunk = text[i:i + chunk_size]\n",
    "    \n",
    "            # Убираем переносы слов (например, \"припоминае-\\nмого\" -> \"припоминаемого\")\n",
    "            chunk_text = re.sub(r'-\\n', '', chunk)\n",
    "            \n",
    "            # Заменяем разрывы строк на пробелы (например, \"\\n\" -> \" \")\n",
    "            chunk_text = re.sub(r'\\n', ' ', chunk_text)\n",
    "            \n",
    "            # Удаляем лишние пробелы\n",
    "            chunk_text = re.sub(r'\\s+', ' ', chunk_text).strip()\n",
    "            \n",
    "            # Удаляем подстроку с названием книги и автором\n",
    "            chunk_text = re.sub(r'Ф. М. Достоевский. «Братья Карамазовы»', '', chunk_text, flags=re.IGNORECASE)\n",
    "    \n",
    "            chunks.append({\n",
    "                'chunk': f\"Текст чанка {chunk_text}. | Источник: номер страницы {page_number}, {current_book}, {current_chapter}\",\n",
    "                'page': page_number,\n",
    "                'book': current_book,\n",
    "                'chapter': current_chapter,\n",
    "                # 'chapter_title': current_chapter_title\n",
    "            })\n",
    "    return chunks\n",
    "\n",
    "chunks = split_text_into_chunks_with_metadata(pages)\n",
    "print(f\"Всего чанков: {len(chunks)}\")"
   ]
  },
  {
   "cell_type": "markdown",
   "metadata": {},
   "source": [
    "## Реализация RAG"
   ]
  },
  {
   "cell_type": "code",
   "execution_count": 110,
   "metadata": {
    "execution": {
     "iopub.execute_input": "2024-12-22T19:40:42.985298Z",
     "iopub.status.busy": "2024-12-22T19:40:42.984978Z",
     "iopub.status.idle": "2024-12-22T19:40:42.989715Z",
     "shell.execute_reply": "2024-12-22T19:40:42.988760Z",
     "shell.execute_reply.started": "2024-12-22T19:40:42.985272Z"
    }
   },
   "outputs": [],
   "source": [
    "import faiss\n",
    "from langchain.embeddings import OpenAIEmbeddings\n",
    "from langchain.vectorstores import FAISS\n",
    "from langchain.chains import RetrievalQA\n",
    "from langchain.prompts import PromptTemplate\n",
    "from langchain_openai import ChatOpenAI"
   ]
  },
  {
   "cell_type": "code",
   "execution_count": 111,
   "metadata": {
    "execution": {
     "iopub.execute_input": "2024-12-22T19:40:42.990889Z",
     "iopub.status.busy": "2024-12-22T19:40:42.990606Z",
     "iopub.status.idle": "2024-12-22T19:40:43.011303Z",
     "shell.execute_reply": "2024-12-22T19:40:43.010302Z",
     "shell.execute_reply.started": "2024-12-22T19:40:42.990864Z"
    }
   },
   "outputs": [],
   "source": [
    "api_key = input(\"Введите API ключ: \")"
   ]
  },
  {
   "cell_type": "code",
   "execution_count": 112,
   "metadata": {
    "execution": {
     "iopub.execute_input": "2024-12-22T19:40:43.012869Z",
     "iopub.status.busy": "2024-12-22T19:40:43.012472Z",
     "iopub.status.idle": "2024-12-22T19:41:24.393643Z",
     "shell.execute_reply": "2024-12-22T19:41:24.392537Z",
     "shell.execute_reply.started": "2024-12-22T19:40:43.012830Z"
    }
   },
   "outputs": [],
   "source": [
    "# Инициализация модели эмбеддингов\n",
    "embeddings = OpenAIEmbeddings(model=\"text-embedding-3-large\", openai_api_key=api_key)\n",
    "\n",
    "# Создание списка текстов для индексации\n",
    "texts = [chunk['chunk'] for chunk in chunks]\n",
    "metadatas = [chunk for chunk in chunks]\n",
    "\n",
    "# Создание векторного хранилища FAISS\n",
    "vector_store = FAISS.from_texts(texts, embeddings, metadatas=metadatas)\n",
    "\n",
    "# Сохранение индекса (опционально)\n",
    "vector_store.save_local(\"faiss_index\")"
   ]
  },
  {
   "cell_type": "code",
   "execution_count": 113,
   "metadata": {
    "execution": {
     "iopub.execute_input": "2024-12-22T19:41:24.395001Z",
     "iopub.status.busy": "2024-12-22T19:41:24.394651Z",
     "iopub.status.idle": "2024-12-22T19:41:24.536091Z",
     "shell.execute_reply": "2024-12-22T19:41:24.534879Z",
     "shell.execute_reply.started": "2024-12-22T19:41:24.394964Z"
    }
   },
   "outputs": [],
   "source": [
    "llm = ChatOpenAI(\n",
    "    model=\"gpt-4o\",           # Specify the GPT-4o model\n",
    "    temperature=0.00,         # Low creativity for precise answers\n",
    "    openai_api_key=api_key,   # Your OpenAI API key\n",
    "    max_tokens=2048           # Adjust as needed\n",
    ")"
   ]
  },
  {
   "cell_type": "code",
   "execution_count": 114,
   "metadata": {
    "execution": {
     "iopub.execute_input": "2024-12-22T19:41:24.538202Z",
     "iopub.status.busy": "2024-12-22T19:41:24.537916Z",
     "iopub.status.idle": "2024-12-22T19:41:24.543555Z",
     "shell.execute_reply": "2024-12-22T19:41:24.542302Z",
     "shell.execute_reply.started": "2024-12-22T19:41:24.538163Z"
    }
   },
   "outputs": [],
   "source": [
    "from langchain.prompts import PromptTemplate\n",
    "\n",
    "template = \"\"\"Вы — ассистент, специализирующийся на предоставлении точных ответов на вопросы по книге \"Братья Карамазовы\" Фёдора Достоевского.\n",
    "\n",
    "Используйте предоставленные отрывки из книги для формирования ответов. Обязательно:\n",
    "\n",
    "1. Приводите полный и развернутый ответ на вопрос.\n",
    "2. Затем приводите точные цитаты из текста книги, подтверждающие ваш ответ, извлекая их из контекста.\n",
    "3. Указывайте источник информации.\n",
    "\n",
    "\n",
    "Контекст:\n",
    "{context}\n",
    "\n",
    "Вопрос: {question}\n",
    "\n",
    "Ответ:\n",
    "1. [Развернутый и полный ответ на вопрос]\n",
    "2. [Цитата из текста: \"...\"]\n",
    "3. [Источник: страница page, book, chapter]\n",
    "\"\"\"\n",
    "\n",
    "prompt = PromptTemplate(\n",
    "    template=template,\n",
    "    input_variables=[\"context\", \"question\"]\n",
    ")"
   ]
  },
  {
   "cell_type": "code",
   "execution_count": 115,
   "metadata": {
    "execution": {
     "iopub.execute_input": "2024-12-22T19:41:24.545208Z",
     "iopub.status.busy": "2024-12-22T19:41:24.544853Z",
     "iopub.status.idle": "2024-12-22T19:41:24.563622Z",
     "shell.execute_reply": "2024-12-22T19:41:24.562475Z",
     "shell.execute_reply.started": "2024-12-22T19:41:24.545163Z"
    }
   },
   "outputs": [],
   "source": [
    "# Создание цепочки Вопрос-Ответ с использованием RetrievalQA\n",
    "qa_chain = RetrievalQA.from_chain_type(\n",
    "    llm=llm,\n",
    "    chain_type=\"stuff\",  # Использование простого объединения\n",
    "    retriever=vector_store.as_retriever(search_kwargs={\"k\": 5}),\n",
    "    return_source_documents=True,  # Добавляем возврат источников\n",
    "    chain_type_kwargs={\"prompt\": prompt}\n",
    ")"
   ]
  },
  {
   "cell_type": "code",
   "execution_count": 128,
   "metadata": {
    "execution": {
     "iopub.execute_input": "2024-12-22T19:52:32.441966Z",
     "iopub.status.busy": "2024-12-22T19:52:32.441605Z",
     "iopub.status.idle": "2024-12-22T19:52:32.446795Z",
     "shell.execute_reply": "2024-12-22T19:52:32.445547Z",
     "shell.execute_reply.started": "2024-12-22T19:52:32.441936Z"
    }
   },
   "outputs": [],
   "source": [
    "# def chatbot():\n",
    "#     print(\"Чат-бот по книге 'Братья Карамазовы'. Задайте свой вопрос или введите 'выход' для завершения.\")\n",
    "#     while True:\n",
    "#         try:\n",
    "#             user_input = input(\"Вы: \")\n",
    "#             if user_input.lower() in ['выход', 'exit', 'quit']:\n",
    "#                 print(\"Чат-бот: До свидания!\")\n",
    "#                 break\n",
    "#             response = qa_chain.invoke(user_input)\n",
    "#             # print(response[\"source_documents\"])\n",
    "#             result = response['result']\n",
    "#             print(result)\n",
    "#         except Exception as e:\n",
    "#             print(f\"Чат-бот: Извините, произошла ошибка: {e}\")\n",
    "\n",
    "# if __name__ == \"__main__\":\n",
    "#     chatbot()"
   ]
  },
  {
   "cell_type": "markdown",
   "metadata": {},
   "source": [
    "## Streamlit"
   ]
  },
  {
   "cell_type": "code",
   "execution_count": null,
   "metadata": {},
   "outputs": [],
   "source": [
    "import streamlit as st\n",
    "from streamlit_chat import message\n",
    "\n",
    "# Инициализация приложения Streamlit\n",
    "st.set_page_config(page_title=\"Чат-бот: Братья Карамазовы\", layout=\"centered\")\n",
    "st.title(\"Чат-бот: Братья Карамазовы\")\n",
    "st.write(\"Задайте любой вопрос о книге 'Братья Карамазовы'. Введите 'выход' для завершения чата.\")\n",
    "\n",
    "# Поле для ввода OpenAI API ключа\n",
    "st.sidebar.header(\"Настройки API\")\n",
    "api_key = st.sidebar.text_input(\"Введите ваш OpenAI API ключ:\", type=\"password\", placeholder=\"Введите ваш API ключ здесь...\")\n",
    "st.sidebar.write(\"Пожалуйста, предоставьте ваш API ключ перед началом чата. Если ключ не предоставлен, бот вернёт стандартный ответ.\")\n",
    "\n",
    "# Состояние сессии для хранения истории сообщений\n",
    "if 'messages' not in st.session_state:\n",
    "    st.session_state.messages = []\n",
    "\n",
    "# Отображение существующих сообщений\n",
    "for i, chat in enumerate(st.session_state.messages):\n",
    "    if chat['role'] == 'user':\n",
    "        message(chat['content'], is_user=True, key=f\"user_{i}\")\n",
    "    else:\n",
    "        message(chat['content'], key=f\"bot_{i}\")\n",
    "\n",
    "# Поле ввода для вопроса пользователя\n",
    "user_input = st.text_input(\"Ваш вопрос:\", placeholder=\"Введите ваш вопрос здесь и нажмите Enter...\")\n",
    "\n",
    "if user_input:\n",
    "    if user_input.lower() in ['выход', 'exit', 'quit']:\n",
    "        st.write(\"Чат завершён. Обновите страницу для начала нового разговора.\")\n",
    "    else:\n",
    "        # Добавление сообщения пользователя в историю\n",
    "        st.session_state.messages.append({\"role\": \"user\", \"content\": user_input})\n",
    "\n",
    "        try:\n",
    "            # Генерация ответа с использованием qa_chain\n",
    "            response = qa_chain.invoke(user_input)\n",
    "        except Exception as e:\n",
    "            response = f\"Извините, произошла ошибка: {e}\"\n",
    "\n",
    "        # Добавление ответа бота в историю\n",
    "        st.session_state.messages.append({\"role\": \"bot\", \"content\": response})\n",
    "\n",
    "        # Отображение новых сообщений\n",
    "        message(user_input, is_user=True, key=f\"user_{len(st.session_state.messages) - 2}\")\n",
    "        message(response, key=f\"bot_{len(st.session_state.messages) - 1}\")"
   ]
  },
  {
   "cell_type": "code",
   "execution_count": null,
   "metadata": {},
   "outputs": [],
   "source": []
  }
 ],
 "metadata": {
  "kaggle": {
   "accelerator": "none",
   "dataSources": [
    {
     "datasetId": 6151582,
     "sourceId": 9994759,
     "sourceType": "datasetVersion"
    },
    {
     "datasetId": 6298358,
     "sourceId": 10193500,
     "sourceType": "datasetVersion"
    }
   ],
   "dockerImageVersionId": 30822,
   "isGpuEnabled": false,
   "isInternetEnabled": true,
   "language": "python",
   "sourceType": "notebook"
  },
  "kernelspec": {
   "display_name": "Python 3 (ipykernel)",
   "language": "python",
   "name": "python3"
  },
  "language_info": {
   "codemirror_mode": {
    "name": "ipython",
    "version": 3
   },
   "file_extension": ".py",
   "mimetype": "text/x-python",
   "name": "python",
   "nbconvert_exporter": "python",
   "pygments_lexer": "ipython3",
   "version": "3.9.16"
  }
 },
 "nbformat": 4,
 "nbformat_minor": 4
}
